{
 "cells": [
  {
   "cell_type": "code",
   "execution_count": 1,
   "metadata": {},
   "outputs": [],
   "source": [
    "import face_recognition\n",
    "import cv2\n",
    "import os, sys\n",
    "import numpy as np\n",
    "import math\n",
    "import time"
   ]
  },
  {
   "cell_type": "code",
   "execution_count": 2,
   "metadata": {},
   "outputs": [],
   "source": [
    "def face_confidence(face_distance, face_match_threshold=0.6):\n",
    "    range = 1.0 - face_match_threshold\n",
    "    linear_val = (1.0-face_distance)/(range*2.0)\n",
    "    \n",
    "    if face_distance > face_match_threshold:\n",
    "        return str(round(linear_val * 100, 2)) + '%'\n",
    "    else:\n",
    "        value = (linear_val + ((1.0 - linear_val) * math.pow((linear_val-.5) *2, .2)))*100\n",
    "        return str(round(value,2)) + '%'\n",
    "    "
   ]
  },
  {
   "cell_type": "code",
   "execution_count": 4,
   "metadata": {},
   "outputs": [],
   "source": [
    "class FaceRecognition:\n",
    "    face_locations = []\n",
    "    face_encodings = []\n",
    "    face_names = []\n",
    "    known_face_encodings = []\n",
    "    known_face_names = []\n",
    "    process_current_frame = True\n",
    "    \n",
    "    def __init__(self):\n",
    "        pass\n",
    "    \n",
    "    def encode_faces(self):\n",
    "        encoded = {}\n",
    "        for image in os.listdir('images'):\n",
    "            face_image = face_recognition.load_image_file(f'images/{image}')\n",
    "            face_encoding = face_recognition.face_encodings(face_image)[0]\n",
    "            encoded[image.split(\".\")[0]] = face_encoding           \n",
    "            \n",
    "        return encoded\n",
    "    \n",
    "    def run_recognition(self, image):\n",
    "        faces = self.encode_faces()\n",
    "        faces_encoded  = list(faces.values())\n",
    "        known_face_names = list(faces.keys())\n",
    "        \n",
    "        img = cv2.imread(image, 1)\n",
    "        small_frame = cv2.resize(img, (0, 0), fx=0.25, fy=0.25)\n",
    "        rgb_small_frame = cv2.cvtColor(img, cv2.COLOR_BGR2RGB)\n",
    "        \n",
    "        face_locations = face_recognition.face_locations(img)\n",
    "        unknown_face_encodings = face_recognition.face_encodings(img, face_locations)\n",
    "        \n",
    "        print(unknown_face_encodings)\n",
    "        print(face_locations)\n",
    "        \n",
    "        face_names = []\n",
    "        for face_encoding in unknown_face_encodings:\n",
    "            matches = face_recognition.compare_faces(faces_encoded, face_encoding)\n",
    "            name = 'Unknown'\n",
    "            \n",
    "            face_distances = face_recognition.face_distance(faces_encoded, face_encoding)\n",
    "            best_match_index = np.argmin(face_distances)\n",
    "            if matches[best_match_index]:\n",
    "                name = known_face_names[best_match_index]\n",
    "            \n",
    "            face_names.append(name)\n",
    "            \n",
    "            for (top, right, bottom, left), name in zip(face_locations, face_names):\n",
    "                cv2.rectangle(img, (left-20, top-20), (right+20, bottom+20), (0,255,0),2)\n",
    "                cv2.rectangle(img, (left-20,bottom-15), (right+20, bottom+20), (0,255,0), cv2.FILLED)\n",
    "                \n",
    "                cv2.putText(img, name, (left - 20, bottom + 15), cv2.FONT_HERSHEY_COMPLEX, 1.0, (0,0,0), 2)\n",
    "            \n",
    "        while True:\n",
    "            cv2.imshow('Image', img)\n",
    "            if cv2.waitKey(1) & 0xFF == ord('q'):\n",
    "                return face_names\n",
    "            \n",
    "    "
   ]
  },
  {
   "cell_type": "code",
   "execution_count": 2,
   "metadata": {},
   "outputs": [
    {
     "ename": "NameError",
     "evalue": "name 'FaceRecognition' is not defined",
     "output_type": "error",
     "traceback": [
      "\u001b[1;31m---------------------------------------------------------------------------\u001b[0m",
      "\u001b[1;31mNameError\u001b[0m                                 Traceback (most recent call last)",
      "Cell \u001b[1;32mIn[2], line 1\u001b[0m\n\u001b[1;32m----> 1\u001b[0m fr\u001b[39m=\u001b[39m FaceRecognition()\n\u001b[0;32m      2\u001b[0m fr\u001b[39m.\u001b[39mrun_recognition(\u001b[39m\"\u001b[39m\u001b[39mtest4.jpg\u001b[39m\u001b[39m\"\u001b[39m)\n",
      "\u001b[1;31mNameError\u001b[0m: name 'FaceRecognition' is not defined"
     ]
    }
   ],
   "source": [
    "fr= FaceRecognition()\n",
    "fr.run_recognition(\"test4.jpg\")"
   ]
  }
 ],
 "metadata": {
  "kernelspec": {
   "display_name": "base",
   "language": "python",
   "name": "python3"
  },
  "language_info": {
   "codemirror_mode": {
    "name": "ipython",
    "version": 3
   },
   "file_extension": ".py",
   "mimetype": "text/x-python",
   "name": "python",
   "nbconvert_exporter": "python",
   "pygments_lexer": "ipython3",
   "version": "3.11.3"
  },
  "orig_nbformat": 4
 },
 "nbformat": 4,
 "nbformat_minor": 2
}
